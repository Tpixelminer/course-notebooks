{
 "cells": [
  {
   "cell_type": "markdown",
   "metadata": {},
   "source": [
    "Load the following into code.py"
   ]
  },
  {
   "cell_type": "code",
   "execution_count": 7,
   "metadata": {},
   "outputs": [
    {
     "ename": "ImportError",
     "evalue": "No module named touchio",
     "output_type": "error",
     "traceback": [
      "\u001b[0;31m---------------------------------------------------------------------------\u001b[0m",
      "\u001b[0;31mImportError\u001b[0m                               Traceback (most recent call last)",
      "\u001b[0;32m<ipython-input-7-79f8b55026fe>\u001b[0m in \u001b[0;36m<module>\u001b[0;34m()\u001b[0m\n\u001b[1;32m      1\u001b[0m \u001b[0;31m# circuitpython firmware\u001b[0m\u001b[0;34m\u001b[0m\u001b[0;34m\u001b[0m\u001b[0m\n\u001b[1;32m      2\u001b[0m \u001b[0;32mimport\u001b[0m \u001b[0mtime\u001b[0m\u001b[0;34m\u001b[0m\u001b[0m\n\u001b[0;32m----> 3\u001b[0;31m \u001b[0;32mimport\u001b[0m \u001b[0mtouchio\u001b[0m\u001b[0;34m\u001b[0m\u001b[0m\n\u001b[0m\u001b[1;32m      4\u001b[0m \u001b[0;32mimport\u001b[0m \u001b[0mboard\u001b[0m\u001b[0;34m\u001b[0m\u001b[0m\n\u001b[1;32m      5\u001b[0m \u001b[0;34m\u001b[0m\u001b[0m\n",
      "\u001b[0;31mImportError\u001b[0m: No module named touchio"
     ]
    }
   ],
   "source": [
    "# circuitpython firmware\n",
    "import time\n",
    "import touchio\n",
    "import board\n",
    "\n",
    "touch_a1 = touchio.TouchIn(board.A1)\n",
    "\n",
    "def command_TOUCH1():\n",
    "    v = touch_a1.raw_value\n",
    "    print(\"%d\" % (v,))\n",
    "\n",
    "commands = {\n",
    "  'TOUCH1': command_TOUCH1,\n",
    "}\n",
    "\n",
    "t0 = time.monotonic()\n",
    "while True:\n",
    "    t1 = time.monotonic()\n",
    "    s = input()\n",
    "    try:\n",
    "        com_func = commands[s]\n",
    "        com_func()\n",
    "    except KeyError:\n",
    "        print(\"# ERROR: INVALID COMMAND '%s'\" % (s,))"
   ]
  },
  {
   "cell_type": "markdown",
   "metadata": {},
   "source": [
    "Make sure no other process is accessing the CPX serial port (/de/ttyACM0 on Linux). Now we can use pyserial to test communication:"
   ]
  },
  {
   "cell_type": "code",
   "execution_count": 1,
   "metadata": {},
   "outputs": [],
   "source": [
    "import glob\n",
    "import serial\n",
    "port = glob.glob(\"/dev/ttyACM*\")[-1]\n",
    "ser = serial.Serial(port,112500)\n"
   ]
  },
  {
   "cell_type": "code",
   "execution_count": 2,
   "metadata": {},
   "outputs": [
    {
     "name": "stdout",
     "output_type": "stream",
     "text": [
      "TOUCH1\n",
      "1505\n"
     ]
    }
   ],
   "source": [
    "ser.write(\"TOUCH1\\r\\n\")\n",
    "print(ser.readline().strip()) #echoed command\n",
    "print(ser.readline().strip()) #sensor value"
   ]
  },
  {
   "cell_type": "code",
   "execution_count": 3,
   "metadata": {},
   "outputs": [],
   "source": [
    "def read_touch1():\n",
    "    ser.write(\"TOUCH1\\r\\n\")\n",
    "    ser.readline() #discard echoed command\n",
    "    return int(ser.readline().strip())  #send back value as integer"
   ]
  },
  {
   "cell_type": "code",
   "execution_count": 4,
   "metadata": {},
   "outputs": [
    {
     "data": {
      "text/plain": [
       "964"
      ]
     },
     "execution_count": 4,
     "metadata": {},
     "output_type": "execute_result"
    }
   ],
   "source": [
    "read_touch1()"
   ]
  },
  {
   "cell_type": "code",
   "execution_count": null,
   "metadata": {},
   "outputs": [],
   "source": []
  }
 ],
 "metadata": {
  "kernelspec": {
   "display_name": "Python 3",
   "language": "python",
   "name": "python3"
  },
  "language_info": {
   "codemirror_mode": {
    "name": "ipython",
    "version": 2
   },
   "file_extension": ".py",
   "mimetype": "text/x-python",
   "name": "python",
   "nbconvert_exporter": "python",
   "pygments_lexer": "ipython2",
   "version": "2.7.12"
  }
 },
 "nbformat": 4,
 "nbformat_minor": 2
}
