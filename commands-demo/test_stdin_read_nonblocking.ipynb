{
 "cells": [
  {
   "cell_type": "markdown",
   "metadata": {},
   "source": [
    "Load the following into `code.py`:\n",
    "```python\n",
    "#CPX firmware\n",
    "# test physcomp's non-blocking stdin reading\n",
    "import time\n",
    "import sys\n",
    "import physcomp\n",
    "\n",
    "while True:\n",
    "    num_rx = physcomp.get_usb_rx_count()\n",
    "    if num_rx > 0:\n",
    "        data = sys.stdin.read(num_rx)\n",
    "        print(\"%d bytes received: %s\" % (num_rx,data))\n",
    "    time.sleep(1.0)\n",
    "```"
   ]
  },
  {
   "cell_type": "markdown",
   "metadata": {},
   "source": [
    "Make sure no other process is accessing the CPX serial port (/de/ttyACM0 on Linux). Now we can use pyserial to test communication:"
   ]
  },
  {
   "cell_type": "code",
   "execution_count": 1,
   "metadata": {},
   "outputs": [],
   "source": [
    "import glob\n",
    "import serial\n",
    "port = glob.glob(\"/dev/ttyACM*\")[-1]\n",
    "ser = serial.Serial(port,112500)\n"
   ]
  },
  {
   "cell_type": "code",
   "execution_count": 3,
   "metadata": {},
   "outputs": [],
   "source": [
    "def exchange():\n",
    "    ser.write(\"Hello Physcomp-IoT class!\")\n",
    "    return ser.readline().strip()  #send back line"
   ]
  }
 ],
 "metadata": {
  "kernelspec": {
   "display_name": "Python 3",
   "language": "python",
   "name": "python3"
  },
  "language_info": {
   "codemirror_mode": {
    "name": "ipython",
    "version": 2
   },
   "file_extension": ".py",
   "mimetype": "text/x-python",
   "name": "python",
   "nbconvert_exporter": "python",
   "pygments_lexer": "ipython2",
   "version": "2.7.12"
  }
 },
 "nbformat": 4,
 "nbformat_minor": 2
}
