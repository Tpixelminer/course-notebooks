{
 "cells": [
  {
   "cell_type": "markdown",
   "metadata": {},
   "source": [
    "## Flashing the firmware\n",
    "\n",
    "Using this reference ...\n",
    "https://docs.micropython.org/en/latest/esp8266/esp8266/tutorial/intro.html\n",
    "\n",
    "First erase the board:\n",
    "\n",
    "```\n",
    "python esptool.py --port /dev/ttyUSB0 erase_flash\n",
    "```\n",
    "\n",
    "Then load the firware:\n",
    "\n",
    "```\n",
    "esptool.py --port /dev/ttyUSB0 --baud 460800 write_flash --flash_size=detect 0 firmware.bin\n",
    "```\n",
    "\n",
    "## Configuring the webrepl\n",
    "\n",
    "Follow the guide here to set up the webrepl:\n",
    "\n",
    "https://learn.adafruit.com/micropython-basics-esp8266-webrepl/access-webrepl\n",
    "\n",
    "## Connecting to the webrepl via a router\n",
    "\n",
    "Following this guide:\n",
    "\n",
    "https://medium.com/@JockDaRock/micropython-esp8266-quick-start-part-4-connect-to-wifi-router-7329076ee330\n",
    "\n"
   ]
  },
  {
   "cell_type": "code",
   "execution_count": null,
   "metadata": {},
   "outputs": [],
   "source": []
  }
 ],
 "metadata": {
  "kernelspec": {
   "display_name": "Python 3",
   "language": "python",
   "name": "python3"
  },
  "language_info": {
   "codemirror_mode": {
    "name": "ipython",
    "version": 3
   },
   "file_extension": ".py",
   "mimetype": "text/x-python",
   "name": "python",
   "nbconvert_exporter": "python",
   "pygments_lexer": "ipython3",
   "version": "3.6.5"
  }
 },
 "nbformat": 4,
 "nbformat_minor": 2
}
