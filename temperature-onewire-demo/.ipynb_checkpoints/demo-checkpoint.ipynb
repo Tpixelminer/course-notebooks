{
 "cells": [
  {
   "cell_type": "markdown",
   "metadata": {},
   "source": [
    "# Motivation\n",
    "It's nice to have a sealed temperature probe to poke into things, for example: \n",
    "- a beaker for a chemical reaction \n",
    "- a compost pile\n",
    "- a brewing vessel/bioreactor\n",
    "- as the input for a temperature control system along with a heating element  \n",
    "\n",
    "Can you think of anything else?"
   ]
  },
  {
   "cell_type": "markdown",
   "metadata": {},
   "source": [
    "# Setup the hardware\n",
    "Connect [DS18X20 OneWire temperature probe](https://www.amazon.com/Waterproof-Temperature-Thermistor-Controller-Thermometer/dp/B01JKVRVNI/) (generic from Amazon) to CPX:\n",
    "- RED -> 3.3V  \n",
    "- BLACK -> GND\n",
    "- YELLOW -> A5 (data bus)\n",
    "\n",
    "Connect a ~4.7 kOhm \"pull-up\" resistor between RED and YELLOW wires.\n"
   ]
  },
  {
   "cell_type": "markdown",
   "metadata": {},
   "source": [
    "<img src=\"circuit.png\">"
   ]
  },
  {
   "cell_type": "markdown",
   "metadata": {},
   "source": [
    "# Setup the CPX driver libraries\n",
    "- Download the [adafruit_onwire library package](https://github.com/adafruit/Adafruit_CircuitPython_OneWire/releases/download/1.0.1/adafruit-circuitpython-onewire-2.2.1-mpy-1.0.1.zip) and copy to the CPX's `lib` folder.\n",
    "- Also download the [adafruit_ds18x20.mpy](https://github.com/adafruit/Adafruit_CircuitPython_DS18X20/releases/download/1.0.3/adafruit-circuitpython-ds18x20-2.2.3-mpy-1.0.3.zip) *precompiled* module for the Temperature Probe sensor to the same `lib` folder."
   ]
  },
  {
   "cell_type": "markdown",
   "metadata": {},
   "source": [
    "# Test Code\n",
    "Copy to `code.py` on the CPX:\n",
    "```python\n",
    "# credit to Tony DiCola, \"Using DS18B20 Temperature Sensor with \n",
    "# CircuitPython.\" https://learn.adafruit.com/using-ds18b20-temperature-sensor-with-circuitpython/hardware\n",
    "import board\n",
    "from adafruit_onewire.bus import OneWireBus\n",
    "ow_bus = OneWireBus(board.A5)\n",
    "\n",
    "#scan the bus for attached devices\n",
    "devices = ow_bus.scan()\n",
    "for device in devices:\n",
    "    print(\"ROM = {} \\tFamily = 0x{:02x}\".format([hex(i) for i in device.rom], device.family_code))\n",
    "    \n",
    "#configure the first device address as the temperature probe\n",
    "import adafruit_ds18x20\n",
    "ds18b20 = adafruit_ds18x20.DS18X20(ow_bus, devices[0])\n",
    "\n",
    "while True:\n",
    "    print(ds18b20.temperature,)\n",
    "```"
   ]
  },
  {
   "cell_type": "markdown",
   "metadata": {},
   "source": [
    "# Sample Output\n",
    "Probe is sitting at room temperature, then I stick it under my arm in direct contact with the skin.\n",
    "<img src=\"mu_screenshot.png\">"
   ]
  },
  {
   "cell_type": "code",
   "execution_count": null,
   "metadata": {},
   "outputs": [],
   "source": []
  }
 ],
 "metadata": {
  "kernelspec": {
   "display_name": "Python 3",
   "language": "python",
   "name": "python3"
  },
  "language_info": {
   "codemirror_mode": {
    "name": "ipython",
    "version": 3
   },
   "file_extension": ".py",
   "mimetype": "text/x-python",
   "name": "python",
   "nbconvert_exporter": "python",
   "pygments_lexer": "ipython3",
   "version": "3.6.5"
  }
 },
 "nbformat": 4,
 "nbformat_minor": 2
}
