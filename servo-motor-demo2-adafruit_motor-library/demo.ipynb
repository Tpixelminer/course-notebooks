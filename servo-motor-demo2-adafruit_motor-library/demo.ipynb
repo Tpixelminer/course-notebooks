{
 "cells": [
  {
   "cell_type": "markdown",
   "metadata": {},
   "source": [
    "# Motivation\n",
    "Now that you know how to driver a servo at the low level, let's forget some of the details and use a higher-leve"
   ]
  },
  {
   "cell_type": "markdown",
   "metadata": {},
   "source": [
    "# Code\n",
    "If you haven't already, download [adafruit-circuitpython-bundle-2.3.1-mpy-20180605.zip](https://github.com/adafruit/Adafruit_CircuitPython_Bundle/releases/download/20180605/adafruit-circuitpython-bundle-2.3.1-mpy-20180605.zip).\n",
    "Then extract and copy the `adafruit_motor` folder to the CPX's `lib` folder.\n",
    "\n",
    "Copy the following to `code.py` on the CPX:\n",
    "```python\n",
    "# Demo of Servo Motor Driving using adafruit_motor library\n",
    "# Author: Craig Versek, based on example and library by Tony DiCola\n",
    "#\n",
    "import time\n",
    "import board\n",
    "import pulseio\n",
    "import adafruit_motor.servo\n",
    "# setup the server PWM driver pin\n",
    "# NOTE: the CPX pinout diagram is not accurate about which pins support PWM output\n",
    "#       I have tested the following to be working: \n",
    "#          alligator pads: A1,A2,A3,A6\n",
    "#          red LED: D13\n",
    "# Other pins may not raise errors, but their use is questionable. For example, A8\n",
    "# connects to the light sensor, so its probably not a good idea to drive it with PWM!\n",
    "# When in doubt use A1 to drive external devices like servo motors.\n",
    "pwm = pulseio.PWMOut(board.A1, frequency=50)\n",
    "\n",
    "# set up the Servo driver object by passing in the pwm object\n",
    "# vontrolling the servo is simple once you have created the driver object, \n",
    "# just set the angle property to a value from 0 to 180 degrees.\n",
    "servo = adafruit_motor.servo.Servo(pwm)\n",
    "\n",
    "# Loop through three standard positions\n",
    "while True:\n",
    "    servo.angle = 0 #go to 0 deg position\n",
    "    time.sleep(1.0)\n",
    "    servo.angle = 90 #go to 90 deg position\n",
    "    time.sleep(1.0)\n",
    "    servo.angle = 180 #go to 180 deg position\n",
    "    time.sleep(1.0)\n",
    "\n",
    "```"
   ]
  },
  {
   "cell_type": "code",
   "execution_count": null,
   "metadata": {},
   "outputs": [],
   "source": []
  }
 ],
 "metadata": {
  "kernelspec": {
   "display_name": "Python 3",
   "language": "python",
   "name": "python3"
  },
  "language_info": {
   "codemirror_mode": {
    "name": "ipython",
    "version": 3
   },
   "file_extension": ".py",
   "mimetype": "text/x-python",
   "name": "python",
   "nbconvert_exporter": "python",
   "pygments_lexer": "ipython3",
   "version": "3.6.5"
  }
 },
 "nbformat": 4,
 "nbformat_minor": 2
}
