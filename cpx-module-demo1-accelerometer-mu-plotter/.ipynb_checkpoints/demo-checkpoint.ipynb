{
 "cells": [
  {
   "cell_type": "markdown",
   "metadata": {},
   "source": [
    "Using the `mu` editor enter the following to `code.py` on the CPX:\n",
    "```python\n",
    "import time\n",
    "from adafruit_circuitplayground.express import cpx\n",
    "\n",
    "while True:\n",
    "    x,y,z = cpx.acceleration\n",
    "    print((x,y,z))\n",
    "    time.sleep(0.1)  #slow down the output a little\n",
    "```\n"
   ]
  }
 ],
 "metadata": {
  "kernelspec": {
   "display_name": "Python 3",
   "language": "python",
   "name": "python3"
  },
  "language_info": {
   "codemirror_mode": {
    "name": "ipython",
    "version": 3
   },
   "file_extension": ".py",
   "mimetype": "text/x-python",
   "name": "python",
   "nbconvert_exporter": "python",
   "pygments_lexer": "ipython3",
   "version": "3.6.5"
  }
 },
 "nbformat": 4,
 "nbformat_minor": 2
}
