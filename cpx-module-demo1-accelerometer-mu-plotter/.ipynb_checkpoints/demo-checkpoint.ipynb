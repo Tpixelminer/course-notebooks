{
 "cells": [
  {
   "cell_type": "markdown",
   "metadata": {},
   "source": [
    "Using the `mu` editor to enter the following to `code.py` on the CPX:\n",
    "```python\n",
    "import time\n",
    "from adafruit_circuitplayground.express import cpx\n",
    "\n",
    "while True:\n",
    "    x,y,z = cpx.acceleration\n",
    "    print((x,y,z))\n",
    "    time.sleep(0.01)  #slow down the output a little\n",
    "```"
   ]
  },
  {
   "cell_type": "markdown",
   "metadata": {},
   "source": [
    "Save the code and click on the `Serial` button to open the REPL.  You should see numbers scrolling by similar to this:\n",
    "```\n",
    "(0.306437, -4.86469, 8.38873)\n",
    "(0.306437, -4.903, 8.23551)\n",
    "(0.497961, -5.05622, 8.1589)\n",
    "(0.459656, -5.13283, 7.96737)\n",
    "(0.421352, -5.13283, 8.04398)\n",
    "(0.421352, -5.01791, 8.1972)\n",
    "(0.306437, -5.09452, 8.12059)\n",
    "(0.421352, -5.01791, 8.27381)\n",
    "(0.383047, -5.01791, 8.1972)\n",
    "(0.383047, -4.86469, 8.08229)\n",
    "(0.536266, -4.903, 8.1972)\n",
    "```"
   ]
  },
  {
   "cell_type": "markdown",
   "metadata": {},
   "source": [
    "Now click on the `Plotter` button, and you should see 3 colored curves wizzing by.  \n",
    "- Try moving and tilting the CPX, what do you notice about the curves in the plotter?"
   ]
  },
  {
   "cell_type": "markdown",
   "metadata": {},
   "source": [
    "![screenshot of mu plotter](screenshot1.png)"
   ]
  },
  {
   "cell_type": "code",
   "execution_count": null,
   "metadata": {},
   "outputs": [],
   "source": []
  }
 ],
 "metadata": {
  "kernelspec": {
   "display_name": "Python 3",
   "language": "python",
   "name": "python3"
  },
  "language_info": {
   "codemirror_mode": {
    "name": "ipython",
    "version": 3
   },
   "file_extension": ".py",
   "mimetype": "text/x-python",
   "name": "python",
   "nbconvert_exporter": "python",
   "pygments_lexer": "ipython3",
   "version": "3.6.5"
  }
 },
 "nbformat": 4,
 "nbformat_minor": 2
}
