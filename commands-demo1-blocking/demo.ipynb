{
 "cells": [
  {
   "cell_type": "markdown",
   "metadata": {},
   "source": [
    "# CPX Code\n",
    "Load the following into `code.py`:\n",
    "```python\n",
    "import sys\n",
    "import touchio\n",
    "import board\n",
    "\n",
    "touch_a1 = touchio.TouchIn(board.A1)\n",
    "\n",
    "def command_TOUCH1():\n",
    "    v = touch_a1.raw_value\n",
    "    print(\"%d\" % (v,))\n",
    "\n",
    "commands = {\n",
    "  'TOUCH1': command_TOUCH1,\n",
    "}\n",
    "\n",
    "while True:\n",
    "    s = sys.stdin.readline()\n",
    "    try:\n",
    "        com_func = commands[s.strip()]\n",
    "        com_func()\n",
    "    except KeyError:\n",
    "        print(\"# ERROR: INVALID COMMAND '%s'\" % (s,))\n",
    "```"
   ]
  },
  {
   "cell_type": "markdown",
   "metadata": {},
   "source": [
    "# Testing in the terminal\n",
    "Make sure no other process is accessing the CPX serial port (/dev/ttyACM* on Linux)."
   ]
  },
  {
   "cell_type": "markdown",
   "metadata": {},
   "source": [
    "Connect to CPX's REPL:\n",
    "```\n",
    "$ screen /dev/ttyACM* 115200\n",
    "```\n",
    "- Type in `TOUCH1` and see the result.\n",
    "- Type anything else and see the result."
   ]
  },
  {
   "cell_type": "markdown",
   "metadata": {},
   "source": [
    "# Testing in the notebook\n",
    "Make sure no other process is accessing the CPX serial port (/dev/ttyACM* on Linux). Now we can use pyserial to test communication:"
   ]
  },
  {
   "cell_type": "code",
   "execution_count": 10,
   "metadata": {},
   "outputs": [],
   "source": [
    "import glob\n",
    "import serial\n",
    "port = glob.glob(\"/dev/ttyACM*\")[-1]  #get the latest device filename\n",
    "ser = serial.Serial(port,112500)\n"
   ]
  },
  {
   "cell_type": "code",
   "execution_count": 13,
   "metadata": {},
   "outputs": [
    {
     "name": "stdout",
     "output_type": "stream",
     "text": [
      "1562\n"
     ]
    }
   ],
   "source": [
    "ser.flush() #clean up any junk left in buffer\n",
    "ser.write(\"TOUCH1\\n\")\n",
    "print(ser.readline().strip()) #sensor value"
   ]
  },
  {
   "cell_type": "code",
   "execution_count": 14,
   "metadata": {},
   "outputs": [],
   "source": [
    "def read_touch1():\n",
    "    ser.flush() #clean up any junk left in buffer\n",
    "    ser.write(\"TOUCH1\\n\")\n",
    "    return int(ser.readline().strip())  #send back value as integer"
   ]
  },
  {
   "cell_type": "code",
   "execution_count": 15,
   "metadata": {},
   "outputs": [
    {
     "data": {
      "text/plain": [
       "1567"
      ]
     },
     "execution_count": 15,
     "metadata": {},
     "output_type": "execute_result"
    }
   ],
   "source": [
    "read_touch1()"
   ]
  },
  {
   "cell_type": "markdown",
   "metadata": {},
   "source": [
    "# What are the problems?\n",
    "\n",
    "\n"
   ]
  },
  {
   "cell_type": "markdown",
   "metadata": {},
   "source": [
    "- **MAJOR:** The function call `sys.stdin.readline()` waits until we press `<enter>` key, so we cannot do anything else in the meantime!  It is a \"blocking read\". For example, what if we want to blink the LED?\n",
    " - *Note* This is a limitation of the current CircuitPython Firmware, we have provided a modified firmware that gets around the problem!\n"
   ]
  },
  {
   "cell_type": "markdown",
   "metadata": {},
   "source": [
    "- *MINOR:* The command as written is not very smart.  Do we need to write a new command to enable the other 5 touch sensing inputs? "
   ]
  },
  {
   "cell_type": "markdown",
   "metadata": {},
   "source": [
    "- *MINOR:* The command is hard-coded to use the `print` function.  What if we want to send the output somewhere else, for example the UART interface or a network interface?"
   ]
  },
  {
   "cell_type": "code",
   "execution_count": null,
   "metadata": {},
   "outputs": [],
   "source": []
  }
 ],
 "metadata": {
  "kernelspec": {
   "display_name": "Python 3",
   "language": "python",
   "name": "python3"
  },
  "language_info": {
   "codemirror_mode": {
    "name": "ipython",
    "version": 2
   },
   "file_extension": ".py",
   "mimetype": "text/x-python",
   "name": "python",
   "nbconvert_exporter": "python",
   "pygments_lexer": "ipython2",
   "version": "2.7.12"
  }
 },
 "nbformat": 4,
 "nbformat_minor": 2
}
