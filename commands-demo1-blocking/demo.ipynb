{
 "cells": [
  {
   "cell_type": "markdown",
   "metadata": {},
   "source": [
    "# CPX Code\n",
    "Load the following into `code.py`:\n",
    "```python\n",
    "# circuitpython firmware\n",
    "import time\n",
    "import touchio\n",
    "import board\n",
    "\n",
    "touch_a1 = touchio.TouchIn(board.A1)\n",
    "\n",
    "def command_TOUCH1():\n",
    "    v = touch_a1.raw_value\n",
    "    print(\"%d\" % (v,))\n",
    "\n",
    "commands = {\n",
    "  'TOUCH1': command_TOUCH1,\n",
    "}\n",
    "\n",
    "t0 = time.monotonic()\n",
    "while True:\n",
    "    t1 = time.monotonic()\n",
    "    s = input()\n",
    "    try:\n",
    "        com_func = commands[s]\n",
    "        com_func()\n",
    "    except KeyError:\n",
    "        print(\"# ERROR: INVALID COMMAND '%s'\" % (s,))\n",
    "```"
   ]
  },
  {
   "cell_type": "markdown",
   "metadata": {},
   "source": [
    "# Testing in the notebook\n",
    "Make sure no other process is accessing the CPX serial port (/dev/ttyACM0 on Linux). Now we can use pyserial to test communication:"
   ]
  },
  {
   "cell_type": "code",
   "execution_count": 1,
   "metadata": {},
   "outputs": [],
   "source": [
    "import glob\n",
    "import serial\n",
    "port = glob.glob(\"/dev/ttyACM*\")[-1]\n",
    "ser = serial.Serial(port,112500)\n"
   ]
  },
  {
   "cell_type": "code",
   "execution_count": 2,
   "metadata": {},
   "outputs": [
    {
     "name": "stdout",
     "output_type": "stream",
     "text": [
      "TOUCH1\n",
      "1505\n"
     ]
    }
   ],
   "source": [
    "ser.write(\"TOUCH1\\r\\n\")\n",
    "print(ser.readline().strip()) #echoed command\n",
    "print(ser.readline().strip()) #sensor value"
   ]
  },
  {
   "cell_type": "code",
   "execution_count": 3,
   "metadata": {},
   "outputs": [],
   "source": [
    "def read_touch1():\n",
    "    ser.write(\"TOUCH1\\r\\n\")\n",
    "    ser.readline() #discard echoed command\n",
    "    return int(ser.readline().strip())  #send back value as integer"
   ]
  },
  {
   "cell_type": "code",
   "execution_count": 2,
   "metadata": {},
   "outputs": [
    {
     "ename": "NameError",
     "evalue": "name 'read_touch1' is not defined",
     "output_type": "error",
     "traceback": [
      "\u001b[0;31m---------------------------------------------------------------------------\u001b[0m",
      "\u001b[0;31mNameError\u001b[0m                                 Traceback (most recent call last)",
      "\u001b[0;32m<ipython-input-2-9af49698333a>\u001b[0m in \u001b[0;36m<module>\u001b[0;34m()\u001b[0m\n\u001b[0;32m----> 1\u001b[0;31m \u001b[0mread_touch1\u001b[0m\u001b[0;34m(\u001b[0m\u001b[0;34m)\u001b[0m\u001b[0;34m\u001b[0m\u001b[0m\n\u001b[0m",
      "\u001b[0;31mNameError\u001b[0m: name 'read_touch1' is not defined"
     ]
    }
   ],
   "source": [
    "read_touch1()"
   ]
  },
  {
   "cell_type": "markdown",
   "metadata": {},
   "source": [
    "# What are the problems?\n",
    "\n",
    "\n"
   ]
  },
  {
   "cell_type": "markdown",
   "metadata": {},
   "source": [
    "- **MAJOR:** The function call `input()` waits until we press `<enter>` key, so we cannot do anything else in the meantime!  It is a \"blocking read\". For example, what if we want to blink the LED?\n",
    " - *Note* This is a limitation of the current CircuitPython Firmware, we have provided a modified firmware that gets around the problem!\n"
   ]
  },
  {
   "cell_type": "markdown",
   "metadata": {},
   "source": [
    "- *MINOR:* The command as written is not very smart.  Do we need to write a new command to enable the other 5 touch sensing inputs? "
   ]
  },
  {
   "cell_type": "markdown",
   "metadata": {},
   "source": [
    "- *MINOR:* The command is hard-coded to use the `print` function.  What if we want to send the output somewhere else, for example the UART interface or a network interface?"
   ]
  },
  {
   "cell_type": "code",
   "execution_count": null,
   "metadata": {},
   "outputs": [],
   "source": []
  }
 ],
 "metadata": {
  "kernelspec": {
   "display_name": "Python 3",
   "language": "python",
   "name": "python3"
  },
  "language_info": {
   "codemirror_mode": {
    "name": "ipython",
    "version": 2
   },
   "file_extension": ".py",
   "mimetype": "text/x-python",
   "name": "python",
   "nbconvert_exporter": "python",
   "pygments_lexer": "ipython2",
   "version": "2.7.12"
  }
 },
 "nbformat": 4,
 "nbformat_minor": 2
}
