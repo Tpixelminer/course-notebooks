{
 "cells": [
  {
   "cell_type": "markdown",
   "metadata": {},
   "source": [
    "Load the following into `code.py`:\n",
    "```python\n",
    "# circuitpython firmware\n",
    "import time\n",
    "import touchio\n",
    "import board\n",
    "\n",
    "touch_a1 = touchio.TouchIn(board.A1)\n",
    "\n",
    "def command_TOUCH1():\n",
    "    v = touch_a1.raw_value\n",
    "    print(\"%d\" % (v,))\n",
    "\n",
    "commands = {\n",
    "  'TOUCH1': command_TOUCH1,\n",
    "}\n",
    "\n",
    "t0 = time.monotonic()\n",
    "while True:\n",
    "    t1 = time.monotonic()\n",
    "    s = input()\n",
    "    try:\n",
    "        com_func = commands[s]\n",
    "        com_func()\n",
    "    except KeyError:\n",
    "        print(\"# ERROR: INVALID COMMAND '%s'\" % (s,))\n",
    "```"
   ]
  },
  {
   "cell_type": "markdown",
   "metadata": {},
   "source": [
    "Make sure no other process is accessing the CPX serial port (/de/ttyACM0 on Linux). Now we can use pyserial to test communication:"
   ]
  },
  {
   "cell_type": "code",
   "execution_count": 1,
   "metadata": {},
   "outputs": [],
   "source": [
    "import glob\n",
    "import serial\n",
    "port = glob.glob(\"/dev/ttyACM*\")[-1]\n",
    "ser = serial.Serial(port,112500)\n"
   ]
  },
  {
   "cell_type": "code",
   "execution_count": 2,
   "metadata": {},
   "outputs": [
    {
     "name": "stdout",
     "output_type": "stream",
     "text": [
      "TOUCH1\n",
      "1505\n"
     ]
    }
   ],
   "source": [
    "ser.write(\"TOUCH1\\r\\n\")\n",
    "print(ser.readline().strip()) #echoed command\n",
    "print(ser.readline().strip()) #sensor value"
   ]
  },
  {
   "cell_type": "code",
   "execution_count": 3,
   "metadata": {},
   "outputs": [],
   "source": [
    "def read_touch1():\n",
    "    ser.write(\"TOUCH1\\r\\n\")\n",
    "    ser.readline() #discard echoed command\n",
    "    return int(ser.readline().strip())  #send back value as integer"
   ]
  },
  {
   "cell_type": "code",
   "execution_count": 4,
   "metadata": {},
   "outputs": [
    {
     "data": {
      "text/plain": [
       "964"
      ]
     },
     "execution_count": 4,
     "metadata": {},
     "output_type": "execute_result"
    }
   ],
   "source": [
    "read_touch1()"
   ]
  },
  {
   "cell_type": "code",
   "execution_count": null,
   "metadata": {},
   "outputs": [],
   "source": []
  }
 ],
 "metadata": {
  "kernelspec": {
   "display_name": "Python 3",
   "language": "python",
   "name": "python3"
  },
  "language_info": {
   "codemirror_mode": {
    "name": "ipython",
    "version": 2
   },
   "file_extension": ".py",
   "mimetype": "text/x-python",
   "name": "python",
   "nbconvert_exporter": "python",
   "pygments_lexer": "ipython2",
   "version": "2.7.12"
  }
 },
 "nbformat": 4,
 "nbformat_minor": 2
}
