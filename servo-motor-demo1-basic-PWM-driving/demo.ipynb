{
 "cells": [
  {
   "cell_type": "markdown",
   "metadata": {},
   "source": [
    "# Motivation\n",
    "Often you want to move something to a specific position using a rotational actuator in a programmable way.  For example:\n",
    "- you want to provide a driving force to a pendulum\n",
    "- you want to open a door, say that exposes a light sensitive instrument\n",
    "\n",
    "*Can the class think of more applications?*\n"
   ]
  },
  {
   "cell_type": "markdown",
   "metadata": {},
   "source": [
    "# Approach\n",
    "An inexpensive RC servo motor is an easy way to accomplish this task.\n",
    "\n",
    "According to Bill Earl (ref. https://learn.adafruit.com/adafruit-motor-selection-guide/rc-servos)\n",
    "> The most common and economical type of servo motor in the hobbyist world is the RC Servo. These were originally designed for hobbyist Radio Control systems. But these days they are widely used for all sorts of small-scale projects where moderately precise positioning is required. Most RC servos provide position control over an approximately 180 degree \n",
    "range. They do not provide speed control or continuous rotation.\n",
    "\n",
    "The signal for driving a servo to a particular angle (and holding it there) is fairly simple.  According to Simon Monk (ref. https://learn.adafruit.com/adafruit-arduino-lesson-14-servo-motors/servo-motors)\n",
    "> The position of the servo motor is set by the length of a pulse. The servo expects to receive a pulse roughly every 20 milliseconds \\[*equivalent to a PWM frequency of 50Hz*\\]. If that pulse is high for 1 millisecond, then the servo angle will be zero, if it is 1.5 milliseconds, then it will be at its centre position and if it is 2 milliseconds it will be at 180 degrees. The end points of the servo can vary and many servos only turn through about 170 degrees.\n"
   ]
  },
  {
   "cell_type": "markdown",
   "metadata": {},
   "source": [
    "# Circuit\n",
    "The **mini servo** has three wires which should connect to the CPX pins:\n",
    "- Brown  -> GND  (ground)\n",
    "- Red    -> VOUT (5V USB or battery power up to 9V)\n",
    "- Yellow -> A1   (PWM drive signal)"
   ]
  },
  {
   "cell_type": "markdown",
   "metadata": {},
   "source": [
    "# Code\n",
    "Load the following to the CPX `code.py` file:\n",
    "```python\n",
    "# Demo of Servo Motor Driving\n",
    "# Author: Craig Versek, based on example and library by Tony DiCola\n",
    "#\n",
    "import time\n",
    "import board\n",
    "import pulseio\n",
    "\n",
    "# setup the server PWM driver pin\n",
    "# NOTE: the CPX pinout diagram is not accurate about which pins support PWM output\n",
    "#       I have tested the following to be working: \n",
    "#          alligator pads: A1,A2,A3,A6\n",
    "#          red LED: D13\n",
    "# Other pins may not raise errors, but their use is questionable. For example, A8\n",
    "# connects to the light sensor, so its probably not a good idea to drive it with PWM!\n",
    "# When in doubt use A1 to drive external devices like servo motors.\n",
    "servo = pulseio.PWMOut(board.A1, frequency=50)\n",
    "\n",
    "#  The duration of the pulse being HIGH is known as the \"duty cycle\" often given\n",
    "#  in a percentage of the pulse repeat period.  Here we will use milliseconds as\n",
    "#  the measure of the duty cycle HIGH period and convert it to a fraction of the \n",
    "#  integer 2**16 = 65535, which is used by the pulseio library.\n",
    "def compute_duty_cycle(pulse_ms, frequency=50):\n",
    "    period_ms = 1.0 / frequency * 1000.0\n",
    "    duty_cycle = int(pulse_ms / (period_ms / 65535.0))\n",
    "    return duty_cycle\n",
    "    \n",
    "# Loop through three standard positions\n",
    "while True:\n",
    "    servo.duty_cycle = compute_duty_cycle(1.0)  #1ms go to 0 deg position\n",
    "    time.sleep(1.0)\n",
    "    servo.duty_cycle = compute_duty_cycle(1.5)  #1.5ms go to 90 deg position\n",
    "    time.sleep(1.0)\n",
    "    servo.duty_cycle = compute_duty_cycle(2.0)  #2.0ms go to 180 deg position\n",
    "    time.sleep(1.0)\n",
    "\n",
    "```"
   ]
  },
  {
   "cell_type": "markdown",
   "metadata": {},
   "source": [
    "# Exercises\n",
    "- Play with the loop code to perform different patterns, for example go in *45 degree steps* from 0 to 180 and back to zero.\n",
    "- Use button input to switch between 0 and 90 degrees.\n"
   ]
  },
  {
   "cell_type": "code",
   "execution_count": null,
   "metadata": {},
   "outputs": [],
   "source": []
  }
 ],
 "metadata": {
  "kernelspec": {
   "display_name": "Python 3",
   "language": "python",
   "name": "python3"
  },
  "language_info": {
   "codemirror_mode": {
    "name": "ipython",
    "version": 3
   },
   "file_extension": ".py",
   "mimetype": "text/x-python",
   "name": "python",
   "nbconvert_exporter": "python",
   "pygments_lexer": "ipython3",
   "version": "3.6.5"
  }
 },
 "nbformat": 4,
 "nbformat_minor": 2
}
